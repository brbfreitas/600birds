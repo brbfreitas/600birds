{
 "cells": [
  {
   "cell_type": "code",
   "execution_count": 1,
   "metadata": {},
   "outputs": [],
   "source": [
    "import subprocess\n",
    "import numpy as np \n",
    "import time\n",
    "import librosa"
   ]
  },
  {
   "cell_type": "markdown",
   "metadata": {},
   "source": [
    "# Very small .wav"
   ]
  },
  {
   "cell_type": "code",
   "execution_count": 8,
   "metadata": {},
   "outputs": [],
   "source": [
    "num_files = 1000\n",
    "filename  = '/Users/ter38/Projects/opso13/600birds/create_training_data/tests/veryshort.wav'\n",
    "length_str = 'very small wav'"
   ]
  },
  {
   "cell_type": "code",
   "execution_count": 9,
   "metadata": {},
   "outputs": [
    {
     "name": "stderr",
     "output_type": "stream",
     "text": [
      "/Users/ter38/.conda/envs/birds/lib/python3.7/site-packages/ipykernel_launcher.py:20: DeprecationWarning: The binary mode of fromstring is deprecated, as it behaves surprisingly on unicode inputs. Use frombuffer instead\n"
     ]
    },
    {
     "name": "stdout",
     "output_type": "stream",
     "text": [
      "Processed 1000 very small wav files in 12.319107055664062 seconds\n"
     ]
    }
   ],
   "source": [
    "t0 = time.time()\n",
    "for _ in range(num_files):\n",
    "    # Code from https://stackoverflow.com/questions/2356779/importing-sound-files-into-python-as-numpy-arrays-alternatives-to-audiolab\n",
    "    SOX_EXEC = '/usr/local/bin/sox'\n",
    "    out_byps = 8\n",
    "\n",
    "    start_samp = 0# sample number to start reading at\n",
    "    len_samp = 1323000\n",
    "\n",
    "\n",
    "    cmd = [SOX_EXEC,\n",
    "           filename,              # input filename\n",
    "           '-t','raw',            # output file type raw\n",
    "           '-e','float', # output encoding\n",
    "           '-L',                  # output little endin\n",
    "           '-b',str(out_byps*8),  # output bytes per sample\n",
    "           '-',                   # output to stdout\n",
    "           'trim',str(start_samp)+'s',str(len_samp)+'s'] # only extract requested part \n",
    "\n",
    "    data = np.fromstring(subprocess.check_output(cmd),'<i%d'%(out_byps))\n",
    "    #data = data.reshape(int(len(data)/num_channels), num_channels)\n",
    "t1 = time.time()\n",
    "print(f'Processed {num_files} {length_str} files in {t1-t0} seconds')\n"
   ]
  },
  {
   "cell_type": "code",
   "execution_count": 12,
   "metadata": {},
   "outputs": [
    {
     "name": "stdout",
     "output_type": "stream",
     "text": [
      "Processed 1000 very small wav files in 7.488915920257568 seconds\n"
     ]
    }
   ],
   "source": [
    "t0 = time.time()\n",
    "for idx in range(num_files):\n",
    "    samples, sample_rate = librosa.load(filename)\n",
    "t1 = time.time()\n",
    "print(f'Processed {num_files} {length_str} files in {t1-t0} seconds')"
   ]
  },
  {
   "cell_type": "markdown",
   "metadata": {},
   "source": [
    "# 10s mp3"
   ]
  },
  {
   "cell_type": "code",
   "execution_count": 2,
   "metadata": {},
   "outputs": [],
   "source": [
    "num_files = 1000\n",
    "filename  = '/Users/ter38/Projects/opso13/600birds/create_training_data/tests/silence_10s.mp3'\n",
    "length_str = '10s'"
   ]
  },
  {
   "cell_type": "code",
   "execution_count": 3,
   "metadata": {},
   "outputs": [
    {
     "name": "stderr",
     "output_type": "stream",
     "text": [
      "/Users/ter38/.conda/envs/birds/lib/python3.7/site-packages/ipykernel_launcher.py:21: DeprecationWarning: The binary mode of fromstring is deprecated, as it behaves surprisingly on unicode inputs. Use frombuffer instead\n"
     ]
    },
    {
     "name": "stdout",
     "output_type": "stream",
     "text": [
      "Processed 1000 10s files in 28.813092947006226 seconds\n"
     ]
    }
   ],
   "source": [
    "t0 = time.time()\n",
    "for _ in range(num_files):\n",
    "    # Code from https://stackoverflow.com/questions/2356779/importing-sound-files-into-python-as-numpy-arrays-alternatives-to-audiolab\n",
    "    SOX_EXEC = '/usr/local/bin/sox'\n",
    "    out_byps = 8\n",
    "\n",
    "    start_samp = 0# sample number to start reading at\n",
    "    len_samp = 1323000\n",
    "\n",
    "\n",
    "    cmd = [SOX_EXEC,\n",
    "           filename,              # input filename\n",
    "           '-t','raw',            # output file type raw\n",
    "           '-e','float', # output encoding\n",
    "           '-L',                  # output little endin\n",
    "           '-b',str(out_byps*8),  # output bytes per sample\n",
    "           '-',                   # output to stdout\n",
    "           'trim',str(start_samp)+'s',str(len_samp)+'s'] # only extract requested part \n",
    "\n",
    "    data = np.fromstring(subprocess.check_output(cmd),'<i%d'%(out_byps))\n",
    "    #data = data.reshape(int(len(data)/num_channels), num_channels)\n",
    "t1 = time.time()\n",
    "print(f'Processed {num_files} {length_str} files in {t1-t0} seconds')\n"
   ]
  },
  {
   "cell_type": "code",
   "execution_count": 7,
   "metadata": {},
   "outputs": [
    {
     "name": "stdout",
     "output_type": "stream",
     "text": [
      "processed 0 files in 0.3763258457183838 seconds\n",
      "processed 100 files in 38.106749057769775 seconds\n",
      "processed 200 files in 75.82119989395142 seconds\n",
      "processed 300 files in 113.56384897232056 seconds\n",
      "processed 400 files in 151.26281189918518 seconds\n",
      "processed 500 files in 188.9567801952362 seconds\n",
      "processed 600 files in 228.22686004638672 seconds\n",
      "processed 700 files in 265.7744300365448 seconds\n",
      "processed 800 files in 303.19530510902405 seconds\n",
      "processed 900 files in 340.71961092948914 seconds\n",
      "Processed 1000 10s files in 377.79634380340576 seconds\n"
     ]
    }
   ],
   "source": [
    "t0 = time.time()\n",
    "for idx in range(num_files):\n",
    "    if not idx % 100:\n",
    "        print(f'processed {idx} files in {t-t0} seconds')\n",
    "    samples, sample_rate = librosa.load(filename)\n",
    "    t = time.time()\n",
    "t1 = time.time()\n",
    "print(f'Processed {num_files} {length_str} files in {t1-t0} seconds')\n"
   ]
  },
  {
   "cell_type": "code",
   "execution_count": null,
   "metadata": {},
   "outputs": [],
   "source": []
  }
 ],
 "metadata": {
  "kernelspec": {
   "display_name": "Python (birds)",
   "language": "python",
   "name": "birds"
  },
  "language_info": {
   "codemirror_mode": {
    "name": "ipython",
    "version": 3
   },
   "file_extension": ".py",
   "mimetype": "text/x-python",
   "name": "python",
   "nbconvert_exporter": "python",
   "pygments_lexer": "ipython3",
   "version": "3.7.4"
  }
 },
 "nbformat": 4,
 "nbformat_minor": 4
}
