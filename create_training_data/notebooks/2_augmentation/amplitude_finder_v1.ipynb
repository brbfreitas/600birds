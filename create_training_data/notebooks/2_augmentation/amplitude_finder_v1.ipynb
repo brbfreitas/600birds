{
 "cells": [
  {
   "cell_type": "code",
   "execution_count": 1,
   "metadata": {},
   "outputs": [],
   "source": [
    "from librosa import load\n",
    "from librosa.display import specshow\n",
    "from scipy.signal import spectrogram, butter, lfilter, freqz\n",
    "import matplotlib.pyplot as plt\n",
    "import numpy as np\n",
    "import os\n",
    "import random\n",
    "import time"
   ]
  },
  {
   "cell_type": "code",
   "execution_count": 2,
   "metadata": {},
   "outputs": [],
   "source": [
    "def plot_spect(samples, sr, ax, title):\n",
    "    f, t, spect = spectrogram(x = samples, fs = sr)\n",
    "    ax.pcolormesh(t, f, spect)\n",
    "    ax.imshow(np.log(spect)[::-1])\n",
    "    ax.set_title(title)\n",
    "    \n",
    "    return f, t, spect"
   ]
  },
  {
   "cell_type": "code",
   "execution_count": 3,
   "metadata": {},
   "outputs": [],
   "source": [
    "def plot_thresh(plot_ax, ref_ax, xs, ys, title, thresh, ylim):\n",
    "    '''\n",
    "    Plot samples and threshold values on an axis\n",
    "    \n",
    "    In a plot with shape (x, 1), plot samples array on \n",
    "    a subplot axis, plot_ax, sized to match the position and\n",
    "    width of the top subplot axis, ref_ax.\n",
    "    \n",
    "    Args:\n",
    "        plot_ax (matplotlib axis): axis to plot on\n",
    "        ref_ax (matplotlib axis): reference axis to plot beneath.\n",
    "            assumes that plot_ax and ref_ax share x axis.\n",
    "        xs (np.ndarray): x values for samples array\n",
    "        ys (np.ndarray): samples array\n",
    "        title (str): desired title of plot\n",
    "    '''\n",
    "    \n",
    "    # Plot samples\n",
    "    plot_ax.plot(xs, ys)\n",
    "\n",
    "    # Positioning and title\n",
    "    pos0 = ref_ax.get_position(original=False)\n",
    "    pos1 = plot_ax.get_position(original=False)\n",
    "    plot_ax.set_position([pos0.x0, pos1.y0, pos0.width, pos1.height])\n",
    "    plot_ax.set_ylim(ylim)\n",
    "    plot_ax.set_title(title)\n",
    "    \n",
    "    # Make hlines\n",
    "    max_y = max(ys)\n",
    "    if type(thresh) != list:\n",
    "        thresh = [thresh]\n",
    "    for idx, t_val in enumerate(thresh):\n",
    "        if max_y >= t_val:\n",
    "            plot_ax.axhline(t_val, color = 'r')\n",
    "        else:\n",
    "            plot_ax.axhline(t_val)\n",
    "        "
   ]
  },
  {
   "cell_type": "code",
   "execution_count": 4,
   "metadata": {},
   "outputs": [],
   "source": [
    "def butter_highpass(cutoff, fs, order=5):\n",
    "    nyq = 0.5 * fs\n",
    "    normal_cutoff = cutoff / nyq\n",
    "    b, a = butter(order, normal_cutoff, btype='high', analog=False)\n",
    "    return b, a\n",
    "\n",
    "def butter_highpass_filter(data, cutoff = 0.5, fs = 10, order = 5):\n",
    "    b, a = butter_highpass(cutoff, fs, order=order)\n",
    "    y = lfilter(b, a, data)\n",
    "    return y"
   ]
  },
  {
   "cell_type": "code",
   "execution_count": 5,
   "metadata": {},
   "outputs": [
    {
     "data": {
      "image/png": "[encoded data removed]",
      "text/plain": [
       "<Figure size 432x288 with 1 Axes>"
      ]
     },
     "metadata": {
      "needs_background": "light"
     },
     "output_type": "display_data"
    }
   ],
   "source": [
    "order = 1\n",
    "cutoff = 0.5 #3.667  # desired cutoff frequency of the filter, Hz\n",
    "fs = 10\n",
    "\n",
    "b, a = butter_highpass(cutoff, fs, order)\n",
    "# Plot the frequency response.\n",
    "w, h = freqz(b, a, worN=8000)\n",
    "plt.plot(0.5*fs*w/np.pi, np.abs(h), 'b')\n",
    "plt.plot(cutoff, 0.5*np.sqrt(2), 'ko')\n",
    "plt.axvline(cutoff, color='k')\n",
    "plt.xlim(0, 0.5*fs)\n",
    "plt.title(\"Lowpass Filter Frequency Response\")\n",
    "plt.xlabel('Frequency [Hz]')\n",
    "plt.xlim((0, 10))\n",
    "plt.grid()"
   ]
  },
  {
   "cell_type": "code",
   "execution_count": 6,
   "metadata": {},
   "outputs": [],
   "source": [
    "def window_energy(samples, nperseg = 256, noverlap = 128):\n",
    "    def _energy(samples):\n",
    "        return np.sum(samples**2)/len(samples)\n",
    "    \n",
    "    windowed = []\n",
    "    skip = nperseg - noverlap\n",
    "    for start in range(0, len(samples), skip):\n",
    "        window_energy = _energy(samples[start : start + nperseg])\n",
    "        windowed.append(window_energy)\n",
    "\n",
    "    return windowed"
   ]
  },
  {
   "cell_type": "code",
   "execution_count": 7,
   "metadata": {},
   "outputs": [],
   "source": [
    "def plot_file(\n",
    "    filename,\n",
    "    smoothing_factor = 10,\n",
    "    nperseg = 256,\n",
    "    noverlap = 128,\n",
    "    thresh = [0.05]\n",
    "):\n",
    "\n",
    "    samples, sr = load(filename, duration = 6)\n",
    "    windowed = window_energy(samples, nperseg*smoothing_factor, noverlap)\n",
    "    norm_factor = np.mean(windowed)\n",
    "    ys = (windowed - norm_factor)*100\n",
    "    print(f'{filename}, {int(np.max(ys) > thresh[0])}')\n",
    "    \n",
    "    # Plot comparison of spectrogram and normalized energy\n",
    "    #fig, ax = plt.subplots(2, 1, sharex=True, figsize=(20, 10))\n",
    "    #f, t, spect = plot_spect(samples, sr, ax[0], title = f\"normal: {filename}\")\n",
    "    #xs = np.linspace(start = 0, stop = spect.shape[1], num=len(ys))\n",
    "    #ylim = (0, 1)\n",
    "    #plot_thresh(\n",
    "    #    plot_ax = ax[1], ref_ax = ax[0], xs = xs, ys = ys,\n",
    "    #    title = None, thresh = thresh, ylim = (0, 0.1))\n",
    "   "
   ]
  },
  {
   "cell_type": "code",
   "execution_count": 10,
   "metadata": {},
   "outputs": [
    {
     "name": "stdout",
     "output_type": "stream",
     "text": [
      "/Volumes/seagate4/xeno-canto/aba_code_1-2/acanthis-flammea/mp3s/171760.mp3, 1\n",
      "/Volumes/seagate4/xeno-canto/aba_code_1-2/aegolius-funereus/mp3s/168350.mp3, 1\n",
      "/Volumes/seagate4/xeno-canto/aba_code_1-2/aix-sponsa/mp3s/174542.mp3, 1\n",
      "/Volumes/seagate4/xeno-canto/aba_code_1-2/ammodramus-bairdii/mp3s/185575.mp3, 1\n",
      "/Volumes/seagate4/xeno-canto/aba_code_1-2/anas-fulvigula/mp3s/130934.mp3, 1\n",
      "/Volumes/seagate4/xeno-canto/aba_code_1-2/anser-rossii/mp3s/452076.mp3, 1\n",
      "/Volumes/seagate4/xeno-canto/aba_code_1-2/aphelocoma-wollweberi/mp3s/218871.mp3, 1\n",
      "/Volumes/seagate4/xeno-canto/aba_code_1-2/ardenna-gravis/mp3s/310326.mp3, 1\n",
      "/Volumes/seagate4/xeno-canto/aba_code_1-2/asio-otus/mp3s/170770.mp3, 0\n",
      "/Volumes/seagate4/xeno-canto/aba_code_1-2/baeolophus-inornatus/mp3s/149470.mp3, 1\n",
      "/Volumes/seagate4/xeno-canto/aba_code_1-2/branta-canadensis/mp3s/178943.mp3, 1\n",
      "/Volumes/seagate4/xeno-canto/aba_code_1-2/buteo-albonotatus/mp3s/190393.mp3, 0\n",
      "/Volumes/seagate4/xeno-canto/aba_code_1-2/buteogallus-anthracinus/mp3s/219886.mp3, 1\n",
      "/Volumes/seagate4/xeno-canto/aba_code_1-2/calidris-canutus/mp3s/185585.mp3, 1\n",
      "/Volumes/seagate4/xeno-canto/aba_code_1-2/calidris-virgata/mp3s/140484.mp3, 1\n",
      "/Volumes/seagate4/xeno-canto/aba_code_1-2/caracara-cheriway/mp3s/177273.mp3, 1\n",
      "/Volumes/seagate4/xeno-canto/aba_code_1-2/catharus-minimus/mp3s/147523.mp3, 1\n",
      "/Volumes/seagate4/xeno-canto/aba_code_1-2/chamaea-fasciata/mp3s/220846.mp3, 1\n",
      "/Volumes/seagate4/xeno-canto/aba_code_1-2/chloroceryle-americana/mp3s/18792.mp3, 0\n",
      "/Volumes/seagate4/xeno-canto/aba_code_1-2/circus-hudsonius/mp3s/164238.mp3, 0\n",
      "/Volumes/seagate4/xeno-canto/aba_code_1-2/columba-livia/mp3s/170450.mp3, 0\n",
      "/Volumes/seagate4/xeno-canto/aba_code_1-2/corvus-caurinus/mp3s/159919.mp3, 0\n",
      "/Volumes/seagate4/xeno-canto/aba_code_1-2/cygnus-buccinator/mp3s/159992.mp3, 1\n",
      "/Volumes/seagate4/xeno-canto/aba_code_1-2/dolichonyx-oryzivorus/mp3s/185518.mp3, 1\n",
      "/Volumes/seagate4/xeno-canto/aba_code_1-2/egretta-tricolor/mp3s/145937.mp3, 1\n",
      "/Volumes/seagate4/xeno-canto/aba_code_1-2/empidonax-occidentalis/mp3s/123660.mp3, 1\n",
      "/Volumes/seagate4/xeno-canto/aba_code_1-2/euphagus-cyanocephalus/mp3s/160784.mp3, 1\n",
      "/Volumes/seagate4/xeno-canto/aba_code_1-2/fratercula-corniculata/mp3s/177513.mp3, 1\n",
      "/Volumes/seagate4/xeno-canto/aba_code_1-2/gavia-arctica/mp3s/197896.mp3, 1\n",
      "/Volumes/seagate4/xeno-canto/aba_code_1-2/geothlypis-trichas/mp3s/159178.mp3, 1\n",
      "/Volumes/seagate4/xeno-canto/aba_code_1-2/haemorhous-purpureus/mp3s/159168.mp3, 1\n",
      "/Volumes/seagate4/xeno-canto/aba_code_1-2/hylocichla-mustelina/mp3s/178127.mp3, 1\n",
      "/Volumes/seagate4/xeno-canto/aba_code_1-2/ictinia-mississippiensis/mp3s/257016.mp3, 1\n",
      "/Volumes/seagate4/xeno-canto/aba_code_1-2/lanius-excubitor/mp3s/171336.mp3, 0\n",
      "/Volumes/seagate4/xeno-canto/aba_code_1-2/larus-marinus/mp3s/190474.mp3, 1\n",
      "/Volumes/seagate4/xeno-canto/aba_code_1-2/leptotila-verreauxi/mp3s/200150.mp3, 1\n",
      "/Volumes/seagate4/xeno-canto/aba_code_1-2/limnodromus-griseus/mp3s/257534.mp3, 1\n",
      "/Volumes/seagate4/xeno-canto/aba_code_1-2/lophura-leucomelanos/mp3s/117131.mp3, 1\n",
      "/Volumes/seagate4/xeno-canto/aba_code_1-2/megaceryle-torquata/mp3s/20715.mp3, 1\n",
      "/Volumes/seagate4/xeno-canto/aba_code_1-2/melanitta-americana/mp3s/168601.mp3, 1\n",
      "/Volumes/seagate4/xeno-canto/aba_code_1-2/mergus-merganser/mp3s/161888.mp3, 1\n",
      "/Volumes/seagate4/xeno-canto/aba_code_1-2/myadestes-townsendi/mp3s/216645.mp3, 1\n",
      "/Volumes/seagate4/xeno-canto/aba_code_1-2/numenius-americanus/mp3s/189310.mp3, 1\n",
      "/Volumes/seagate4/xeno-canto/aba_code_1-2/oenanthe-oenanthe/mp3s/175162.mp3, 1\n",
      "/Volumes/seagate4/xeno-canto/aba_code_1-2/parabuteo-unicinctus/mp3s/194653.mp3, 1\n",
      "/Volumes/seagate4/xeno-canto/aba_code_1-2/passerella-megarhyncha/mp3s/125230.mp3, 1\n",
      "/Volumes/seagate4/xeno-canto/aba_code_1-2/patagioenas-leucocephala/mp3s/145946.mp3, 1\n",
      "/Volumes/seagate4/xeno-canto/aba_code_1-2/peucaea-carpalis/mp3s/111621.mp3, 1\n",
      "/Volumes/seagate4/xeno-canto/aba_code_1-2/phalacrocorax-urile/mp3s/103512.mp3, 1\n",
      "/Volumes/seagate4/xeno-canto/aba_code_1-2/phylloscopus-borealis/mp3s/284516.mp3, 0\n",
      "/Volumes/seagate4/xeno-canto/aba_code_1-2/piranga-ludoviciana/mp3s/172413.mp3, 1\n",
      "/Volumes/seagate4/xeno-canto/aba_code_1-2/pluvialis-squatarola/mp3s/165368.mp3, 1\n",
      "/Volumes/seagate4/xeno-canto/aba_code_1-2/poecile-sclateri/mp3s/169223.mp3, 1\n",
      "/Volumes/seagate4/xeno-canto/aba_code_1-2/psaltriparus-minimus/mp3s/159147.mp3, 1\n",
      "/Volumes/seagate4/xeno-canto/aba_code_1-2/pycnonotus-cafer/mp3s/116834.mp3, 1\n",
      "/Volumes/seagate4/xeno-canto/aba_code_1-2/rallus-obsoletus/mp3s/187966.mp3, 1\n",
      "/Volumes/seagate4/xeno-canto/aba_code_1-2/salpinctes-obsoletus/mp3s/172813.mp3, 1\n",
      "/Volumes/seagate4/xeno-canto/aba_code_1-2/setophaga-aestiva/mp3s/159450.mp3, 1\n",
      "/Volumes/seagate4/xeno-canto/aba_code_1-2/setophaga-dominica/mp3s/141567.mp3, 1\n",
      "/Volumes/seagate4/xeno-canto/aba_code_1-2/setophaga-pinus/mp3s/178899.mp3, 0\n",
      "/Volumes/seagate4/xeno-canto/aba_code_1-2/sitta-canadensis/mp3s/159329.mp3, 1\n",
      "/Volumes/seagate4/xeno-canto/aba_code_1-2/sphyrapicus-ruber/mp3s/172406.mp3, 1\n",
      "/Volumes/seagate4/xeno-canto/aba_code_1-2/spizella-breweri/mp3s/13817.mp3, 1\n",
      "/Volumes/seagate4/xeno-canto/aba_code_1-2/sterna-dougallii/mp3s/145855.mp3, 1\n",
      "/Volumes/seagate4/xeno-canto/aba_code_1-2/sturnella-neglecta/mp3s/185844.mp3, 1\n",
      "/Volumes/seagate4/xeno-canto/aba_code_1-2/thalasseus-maximus/mp3s/173891.mp3, 1\n",
      "/Volumes/seagate4/xeno-canto/aba_code_1-2/toxostoma-rufum/mp3s/16933.mp3, 1\n",
      "/Volumes/seagate4/xeno-canto/aba_code_1-2/trogon-elegans/mp3s/21708.mp3, 1\n",
      "/Volumes/seagate4/xeno-canto/aba_code_1-2/tyrannus-tyrannus/mp3s/139466.mp3, 1\n",
      "/Volumes/seagate4/xeno-canto/aba_code_1-2/vireo-atricapilla/mp3s/141422.mp3, 1\n",
      "/Volumes/seagate4/xeno-canto/aba_code_1-2/vireo-solitarius/mp3s/188905.mp3, 1\n",
      "/Volumes/seagate4/xeno-canto/aba_code_1-2/zosterops-japonicus/mp3s/192563.mp3, 1\n",
      "Time for 72 files: 16.22919797897339\n"
     ]
    }
   ],
   "source": [
    "t0 = time.time()\n",
    "tyto_path = '/Volumes/seagate4/xeno-canto/aba_code_1-2/tyto-furcata/mp3s/421206.mp3'    \n",
    "aba_path = '/Volumes/seagate4/xeno-canto/aba_code_1-2/'\n",
    "species_dirs = [os.path.join(aba_path, d, 'mp3s/') for d in os.listdir(aba_path) if os.path.isdir(os.path.join(aba_path, d))]\n",
    "filenames = []\n",
    "for species_dir in species_dirs:\n",
    "    random.seed(1)\n",
    "    try:\n",
    "        mp3_name = random.choice(os.listdir(species_dir))\n",
    "        filenames.append(os.path.join(species_dir, mp3_name))\n",
    "    except IndexError:\n",
    "        continue\n",
    "filenames_to_use = filenames[::10]\n",
    "for filename in filenames_to_use:\n",
    "    plot_file(filename)\n",
    "print(f'Time for {len(filenames_to_use)} files: {time.time() - t0}')"
   ]
  },
  {
   "cell_type": "code",
   "execution_count": 11,
   "metadata": {},
   "outputs": [
    {
     "data": {
      "text/plain": [
       "195260.88888888888"
      ]
     },
     "execution_count": 11,
     "metadata": {},
     "output_type": "execute_result"
    }
   ],
   "source": [
    "(878674/72)*16"
   ]
  },
  {
   "cell_type": "code",
   "execution_count": null,
   "metadata": {},
   "outputs": [],
   "source": []
  },
  {
   "cell_type": "code",
   "execution_count": null,
   "metadata": {},
   "outputs": [],
   "source": []
  },
  {
   "cell_type": "code",
   "execution_count": 19,
   "metadata": {},
   "outputs": [],
   "source": [
    "# Create a list of files to analyze\n",
    "species_dirs = [os.path.join(split_path, sp) \n",
    "                for sp in os.listdir(split_path)\n",
    "                if os.path.isdir(os.path.join(split_path, sp))]\n",
    "filenames = []\n",
    "for species_dir in species_dirs:\n",
    "    random.seed(1)\n",
    "    try:\n",
    "        filenames.extend(\n",
    "            [os.path.join(species_dir, mp3_name) \n",
    "            for mp3_name in os.listdir(species_dir)]\n",
    "        )\n",
    "    except IndexError:\n",
    "        continue\n",
    "\n",
    "# Analyze all files and save to dictionary\n",
    "silence_dict = {}\n",
    "for filename in filenames:\n",
    "    silence_dict[filename] = identify_silence(filename)\n",
    "\n",
    "# Write results to .csv\n",
    "csv = ''\n",
    "for filename, value in silence_dict.items():\n",
    "    line = f\"{filename},{value}\\n\"\n",
    "    csv += line\n",
    "csv_name = '/bgfs/jkitzes/xeno-canto-split/silences.csv'\n",
    "with open(csv_name, 'a') as f:\n",
    "    f.write('filename,silence_detector_v1\\n')\n",
    "    f.write(csv)"
   ]
  },
  {
   "cell_type": "code",
   "execution_count": 31,
   "metadata": {},
   "outputs": [],
   "source": []
  },
  {
   "cell_type": "code",
   "execution_count": null,
   "metadata": {},
   "outputs": [],
   "source": []
  }
 ],
 "metadata": {
  "kernelspec": {
   "display_name": "Python (birds)",
   "language": "python",
   "name": "birds"
  },
  "language_info": {
   "codemirror_mode": {
    "name": "ipython",
    "version": 3
   },
   "file_extension": ".py",
   "mimetype": "text/x-python",
   "name": "python",
   "nbconvert_exporter": "python",
   "pygments_lexer": "ipython3",
   "version": "3.7.4"
  }
 },
 "nbformat": 4,
 "nbformat_minor": 4
}
